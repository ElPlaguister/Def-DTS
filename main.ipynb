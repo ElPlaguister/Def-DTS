{
 "cells": [
  {
   "cell_type": "code",
   "execution_count": 1,
   "metadata": {},
   "outputs": [],
   "source": [
    "from src.autoseg import *\n",
    "import pandas as pd"
   ]
  },
  {
   "cell_type": "markdown",
   "metadata": {},
   "source": [
    "### Manual Reproduction"
   ]
  },
  {
   "cell_type": "code",
   "execution_count": null,
   "metadata": {},
   "outputs": [],
   "source": [
    "# first, at src/autoseg.py, you should fill out key-owner:api_key dictionary\n",
    "process('tiage', 'defdts_tiage', 10, 0, 'SAVE_PATH.json', 'chatgpt_key_owner_id', True, [], 'gpt-4o')"
   ]
  },
  {
   "cell_type": "markdown",
   "metadata": {},
   "source": [
    "### Main Result"
   ]
  },
  {
   "cell_type": "code",
   "execution_count": null,
   "metadata": {},
   "outputs": [
    {
     "name": "stdout",
     "output_type": "stream",
     "text": [
      "[pk] 0.23228 [wd] 0.255769 [f1] 0.698835 \n"
     ]
    },
    {
     "data": {
      "text/html": [
       "<div>\n",
       "<style scoped>\n",
       "    .dataframe tbody tr th:only-of-type {\n",
       "        vertical-align: middle;\n",
       "    }\n",
       "\n",
       "    .dataframe tbody tr th {\n",
       "        vertical-align: top;\n",
       "    }\n",
       "\n",
       "    .dataframe thead th {\n",
       "        text-align: right;\n",
       "    }\n",
       "</style>\n",
       "<table border=\"1\" class=\"dataframe\">\n",
       "  <thead>\n",
       "    <tr style=\"text-align: right;\">\n",
       "      <th></th>\n",
       "      <th>all</th>\n",
       "      <th>JUST_ANSWER</th>\n",
       "      <th>INTRODUCE_TOPIC</th>\n",
       "      <th>JUST_COMMENT</th>\n",
       "      <th>DEVELOP_TOPIC</th>\n",
       "      <th>CHANGE_TOPIC</th>\n",
       "    </tr>\n",
       "  </thead>\n",
       "  <tbody>\n",
       "    <tr>\n",
       "      <th>tp</th>\n",
       "      <td>210</td>\n",
       "      <td>0</td>\n",
       "      <td>189</td>\n",
       "      <td>0</td>\n",
       "      <td>0</td>\n",
       "      <td>21</td>\n",
       "    </tr>\n",
       "    <tr>\n",
       "      <th>fp</th>\n",
       "      <td>76</td>\n",
       "      <td>1</td>\n",
       "      <td>68</td>\n",
       "      <td>1</td>\n",
       "      <td>0</td>\n",
       "      <td>6</td>\n",
       "    </tr>\n",
       "    <tr>\n",
       "      <th>tn</th>\n",
       "      <td>1073</td>\n",
       "      <td>456</td>\n",
       "      <td>0</td>\n",
       "      <td>498</td>\n",
       "      <td>119</td>\n",
       "      <td>0</td>\n",
       "    </tr>\n",
       "    <tr>\n",
       "      <th>fn</th>\n",
       "      <td>105</td>\n",
       "      <td>23</td>\n",
       "      <td>0</td>\n",
       "      <td>35</td>\n",
       "      <td>47</td>\n",
       "      <td>0</td>\n",
       "    </tr>\n",
       "  </tbody>\n",
       "</table>\n",
       "</div>"
      ],
      "text/plain": [
       "     all  JUST_ANSWER  INTRODUCE_TOPIC  JUST_COMMENT  DEVELOP_TOPIC  \\\n",
       "tp   210            0              189             0              0   \n",
       "fp    76            1               68             1              0   \n",
       "tn  1073          456                0           498            119   \n",
       "fn   105           23                0            35             47   \n",
       "\n",
       "    CHANGE_TOPIC  \n",
       "tp            21  \n",
       "fp             6  \n",
       "tn             0  \n",
       "fn             0  "
      ]
     },
     "execution_count": 5,
     "metadata": {},
     "output_type": "execute_result"
    }
   ],
   "source": [
    "agg = agg_result('tiage', 'defdts_tiage', 'test', 100)\n",
    "pretty_print(agg['performance'], 6)\n",
    "pd.DataFrame(agg['report'])"
   ]
  },
  {
   "cell_type": "code",
   "execution_count": null,
   "metadata": {},
   "outputs": [
    {
     "name": "stdout",
     "output_type": "stream",
     "text": [
      "[pk] 0.314815 [wd] 0.323763 [f1] 0.68593 \n"
     ]
    },
    {
     "data": {
      "text/html": [
       "<div>\n",
       "<style scoped>\n",
       "    .dataframe tbody tr th:only-of-type {\n",
       "        vertical-align: middle;\n",
       "    }\n",
       "\n",
       "    .dataframe tbody tr th {\n",
       "        vertical-align: top;\n",
       "    }\n",
       "\n",
       "    .dataframe thead th {\n",
       "        text-align: right;\n",
       "    }\n",
       "</style>\n",
       "<table border=\"1\" class=\"dataframe\">\n",
       "  <thead>\n",
       "    <tr style=\"text-align: right;\">\n",
       "      <th></th>\n",
       "      <th>all</th>\n",
       "      <th>ANSWERING</th>\n",
       "      <th>RELEVANT_QUESTION</th>\n",
       "      <th>DIFFERENT_QUESTION</th>\n",
       "      <th>ADDITIONAL_COMMENT</th>\n",
       "    </tr>\n",
       "  </thead>\n",
       "  <tbody>\n",
       "    <tr>\n",
       "      <th>tp</th>\n",
       "      <td>2457</td>\n",
       "      <td>0</td>\n",
       "      <td>1</td>\n",
       "      <td>2456</td>\n",
       "      <td>0</td>\n",
       "    </tr>\n",
       "    <tr>\n",
       "      <th>fp</th>\n",
       "      <td>690</td>\n",
       "      <td>2</td>\n",
       "      <td>0</td>\n",
       "      <td>688</td>\n",
       "      <td>0</td>\n",
       "    </tr>\n",
       "    <tr>\n",
       "      <th>tn</th>\n",
       "      <td>9977</td>\n",
       "      <td>7819</td>\n",
       "      <td>811</td>\n",
       "      <td>83</td>\n",
       "      <td>1264</td>\n",
       "    </tr>\n",
       "    <tr>\n",
       "      <th>fn</th>\n",
       "      <td>1560</td>\n",
       "      <td>168</td>\n",
       "      <td>989</td>\n",
       "      <td>192</td>\n",
       "      <td>211</td>\n",
       "    </tr>\n",
       "  </tbody>\n",
       "</table>\n",
       "</div>"
      ],
      "text/plain": [
       "     all  ANSWERING  RELEVANT_QUESTION  DIFFERENT_QUESTION  ADDITIONAL_COMMENT\n",
       "tp  2457          0                  1                2456                   0\n",
       "fp   690          2                  0                 688                   0\n",
       "tn  9977       7819                811                  83                1264\n",
       "fn  1560        168                989                 192                 211"
      ]
     },
     "execution_count": 6,
     "metadata": {},
     "output_type": "execute_result"
    }
   ],
   "source": [
    "agg = agg_result('superseg', 'defdts_superseg', 'test', 1322)\n",
    "pretty_print(agg['performance'], 6)\n",
    "pd.DataFrame(agg['report'])"
   ]
  },
  {
   "cell_type": "code",
   "execution_count": null,
   "metadata": {},
   "outputs": [
    {
     "name": "stdout",
     "output_type": "stream",
     "text": [
      "[pk] 0.015046 [wd] 0.018243 [f1] 0.979031 \n"
     ]
    },
    {
     "data": {
      "text/html": [
       "<div>\n",
       "<style scoped>\n",
       "    .dataframe tbody tr th:only-of-type {\n",
       "        vertical-align: middle;\n",
       "    }\n",
       "\n",
       "    .dataframe tbody tr th {\n",
       "        vertical-align: top;\n",
       "    }\n",
       "\n",
       "    .dataframe thead th {\n",
       "        text-align: right;\n",
       "    }\n",
       "</style>\n",
       "<table border=\"1\" class=\"dataframe\">\n",
       "  <thead>\n",
       "    <tr style=\"text-align: right;\">\n",
       "      <th></th>\n",
       "      <th>all</th>\n",
       "      <th>JUST_ANSWER</th>\n",
       "      <th>CHANGE_TOPIC</th>\n",
       "      <th>DEVELOP_TOPIC</th>\n",
       "      <th>JUST_COMMENT</th>\n",
       "    </tr>\n",
       "  </thead>\n",
       "  <tbody>\n",
       "    <tr>\n",
       "      <th>tp</th>\n",
       "      <td>2708</td>\n",
       "      <td>0</td>\n",
       "      <td>2708</td>\n",
       "      <td>0</td>\n",
       "      <td>0</td>\n",
       "    </tr>\n",
       "    <tr>\n",
       "      <th>fp</th>\n",
       "      <td>81</td>\n",
       "      <td>6</td>\n",
       "      <td>66</td>\n",
       "      <td>3</td>\n",
       "      <td>6</td>\n",
       "    </tr>\n",
       "    <tr>\n",
       "      <th>tn</th>\n",
       "      <td>15101</td>\n",
       "      <td>7675</td>\n",
       "      <td>0</td>\n",
       "      <td>2359</td>\n",
       "      <td>5067</td>\n",
       "    </tr>\n",
       "    <tr>\n",
       "      <th>fn</th>\n",
       "      <td>35</td>\n",
       "      <td>8</td>\n",
       "      <td>0</td>\n",
       "      <td>13</td>\n",
       "      <td>14</td>\n",
       "    </tr>\n",
       "  </tbody>\n",
       "</table>\n",
       "</div>"
      ],
      "text/plain": [
       "      all  JUST_ANSWER  CHANGE_TOPIC  DEVELOP_TOPIC  JUST_COMMENT\n",
       "tp   2708            0          2708              0             0\n",
       "fp     81            6            66              3             6\n",
       "tn  15101         7675             0           2359          5067\n",
       "fn     35            8             0             13            14"
      ]
     },
     "execution_count": 8,
     "metadata": {},
     "output_type": "execute_result"
    }
   ],
   "source": [
    "agg = agg_result('dialseg711', 'defdts_711', 'test', 711)\n",
    "pretty_print(agg['performance'], 6)\n",
    "pd.DataFrame(agg['report'])"
   ]
  },
  {
   "cell_type": "markdown",
   "metadata": {},
   "source": [
    "### Ablation Study"
   ]
  },
  {
   "cell_type": "code",
   "execution_count": null,
   "metadata": {},
   "outputs": [
    {
     "name": "stdout",
     "output_type": "stream",
     "text": [
      "[pk] 0.294789 [wd] 0.332537 [f1] 0.605263 \n",
      "[pk] 0.315618 [wd] 0.34244 [f1] 0.523517 \n",
      "[pk] 0.287491 [wd] 0.307509 [f1] 0.617329 \n",
      "[pk] 0.262527 [wd] 0.29641 [f1] 0.681682 \n",
      "[pk] 0.23228 [wd] 0.255769 [f1] 0.698835 \n"
     ]
    }
   ],
   "source": [
    "pretty_print(compute_gpt_performance('tiage', 'test', 'defdts_wo_all', 100, simple=True)[0])\n",
    "pretty_print(compute_gpt_performance('tiage', 'test', 'defdts_wo_cls', 100)[0])\n",
    "pretty_print(compute_gpt_performance('tiage', 'test', 'defdts_wo_exp', 100)[0])\n",
    "pretty_print(compute_gpt_performance('tiage', 'test', 'defdts_wo_con', 100)[0])\n",
    "pretty_print(compute_gpt_performance('tiage', 'test', 'defdts_tiage', 100)[0])"
   ]
  },
  {
   "cell_type": "markdown",
   "metadata": {},
   "source": [
    "### Other methodologies: S3-DST"
   ]
  },
  {
   "cell_type": "code",
   "execution_count": 9,
   "metadata": {},
   "outputs": [
    {
     "name": "stdout",
     "output_type": "stream",
     "text": [
      "[pk] 0.438782 [wd] 0.497647 [f1] 0.264657 \n"
     ]
    }
   ],
   "source": [
    "pretty_print(compute_gpt_performance('tiage', 'test', 'no_dst_uttr', 100)[0])"
   ]
  },
  {
   "cell_type": "code",
   "execution_count": 10,
   "metadata": {},
   "outputs": [
    {
     "name": "stdout",
     "output_type": "stream",
     "text": [
      "[pk] 0.442244 [wd] 0.468565 [f1] 0.403774 \n"
     ]
    }
   ],
   "source": [
    "pretty_print(compute_gpt_performance('superseg', 'test', 'no_dst_uttr', 1322)[0])"
   ]
  },
  {
   "cell_type": "code",
   "execution_count": 11,
   "metadata": {},
   "outputs": [
    {
     "name": "stdout",
     "output_type": "stream",
     "text": [
      "[pk] 0.087096 [wd] 0.108657 [f1] 0.790057 \n"
     ]
    }
   ],
   "source": [
    "pretty_print(compute_gpt_performance('dialseg711', 'test', 'no_dst_uttr', 711)[0])"
   ]
  },
  {
   "cell_type": "markdown",
   "metadata": {},
   "source": [
    "### Other Methodologies: Plain Text"
   ]
  },
  {
   "cell_type": "code",
   "execution_count": 12,
   "metadata": {},
   "outputs": [
    {
     "name": "stdout",
     "output_type": "stream",
     "text": [
      "[pk] 0.444973 [wd] 0.484725 [f1] 0.184971 \n"
     ]
    }
   ],
   "source": [
    "pretty_print(compute_plain_performance('tiage', 'test', 100))"
   ]
  },
  {
   "cell_type": "code",
   "execution_count": 13,
   "metadata": {},
   "outputs": [
    {
     "name": "stdout",
     "output_type": "stream",
     "text": [
      "[pk] 0.412207 [wd] 0.42747 [f1] 0.048055 \n"
     ]
    }
   ],
   "source": [
    "pretty_print(compute_plain_performance('superseg', 'test', 1322))"
   ]
  },
  {
   "cell_type": "code",
   "execution_count": 14,
   "metadata": {},
   "outputs": [
    {
     "name": "stdout",
     "output_type": "stream",
     "text": [
      "[pk] 0.333151 [wd] 0.353186 [f1] 0.010012 \n"
     ]
    }
   ],
   "source": [
    "pretty_print(compute_plain_performance('dialseg711', 'test', 711))"
   ]
  },
  {
   "cell_type": "markdown",
   "metadata": {},
   "source": [
    "### Cohen's Kappa"
   ]
  },
  {
   "cell_type": "code",
   "execution_count": null,
   "metadata": {},
   "outputs": [
    {
     "name": "stdout",
     "output_type": "stream",
     "text": [
      "0.485\n",
      "0.429\n",
      "0.975\n"
     ]
    }
   ],
   "source": [
    "print(f\"{compute_kappa('tiage', 'defdts_tiage', 100):.3f}\")\n",
    "print(f\"{compute_kappa('superseg', 'defdts_superseg', 1322):.3f}\")\n",
    "print(f\"{compute_kappa('dialseg711', 'defdts_711', 711):.3f}\")"
   ]
  },
  {
   "cell_type": "markdown",
   "metadata": {},
   "source": [
    "### Local LLMs"
   ]
  },
  {
   "cell_type": "code",
   "execution_count": 25,
   "metadata": {},
   "outputs": [
    {
     "name": "stdout",
     "output_type": "stream",
     "text": [
      "[Def-DTS]\n",
      "tiage\n",
      "[pk] 0.306932 [wd] 0.33902 [f1] 0.551601 \n",
      "[pk] 0.327381 [wd] 0.345788 [f1] 0.52988 \n",
      "superseg\n",
      "[pk] 0.384305 [wd] 0.385416 [f1] 0.432133 \n",
      "[pk] 0.432577 [wd] 0.433688 [f1] 0.171429 \n",
      "dialseg711\n",
      "[pk] 0.028513 [wd] 0.039063 [f1] 0.940874 \n",
      "[pk] 0.101764 [wd] 0.207908 [f1] 0.72885 \n"
     ]
    }
   ],
   "source": [
    "print('[Def-DTS]')\n",
    "for domain in['tiage', 'superseg', 'dialseg711']:\n",
    "    print(domain)\n",
    "    pretty_print(compute_gpt_performance(domain, 'test', 'llama', 2000)[0])\n",
    "    pretty_print(compute_gpt_performance(domain, 'test', 'qwen', 2000)[0])"
   ]
  },
  {
   "cell_type": "code",
   "execution_count": 28,
   "metadata": {},
   "outputs": [
    {
     "name": "stdout",
     "output_type": "stream",
     "text": [
      "[NO_DST_uttr]\n",
      "tiage\n",
      "[pk] 0.456039 [wd] 0.474171 [f1] 0.142857 \n",
      "superseg\n",
      "[pk] 0.489916 [wd] 0.512166 [f1] 0.071625 \n",
      "dialseg711\n",
      "[pk] 0.158376 [wd] 0.19006 [f1] 0.553234 \n",
      "tiage\n",
      "ERROR in    8: 0 != 16\n",
      "ERROR in    9: 0 != 14\n",
      "ERROR in   12: 0 != 14\n",
      "ERROR in   13: 0 != 14\n",
      "ERROR in   19: 0 != 14\n",
      "ERROR in   21: 0 != 16\n",
      "ERROR in   28: 0 != 16\n",
      "ERROR in   34: 0 != 16\n",
      "ERROR in   36: 0 != 16\n",
      "ERROR in   38: 0 != 14\n",
      "ERROR in   40: 0 != 16\n",
      "ERROR in   41: 0 != 16\n",
      "ERROR in   44: 0 != 16\n",
      "ERROR in   45: 0 != 16\n",
      "ERROR in   56: 0 != 16\n",
      "ERROR in   57: 0 != 16\n",
      "ERROR in   58: 0 != 16\n",
      "ERROR in   62: 0 != 16\n",
      "ERROR in   67: 0 != 16\n",
      "ERROR in   70: 0 != 16\n",
      "ERROR in   71: 0 != 16\n",
      "ERROR in   76: 0 != 14\n",
      "ERROR in   79: 0 != 16\n",
      "ERROR in   80: 0 != 16\n",
      "ERROR in   84: 0 != 16\n",
      "ERROR in   86: 0 != 16\n",
      "ERROR in   87: 0 != 16\n",
      "ERROR in   99: 0 != 16\n",
      "mismatched_count:  28\n",
      "[pk] 0.363057 [wd] 0.384437 [f1] 0.398827 \n",
      "superseg\n",
      "ERROR in   15: 0 != 10\n",
      "ERROR in   30: 0 != 10\n",
      "ERROR in  453: 0 != 10\n",
      "mismatched_count:  3\n",
      "[pk] 0.441133 [wd] 0.448464 [f1] 0.100386 \n",
      "dialseg711\n",
      "ERROR in    0: 0 != 23\n",
      "ERROR in    5: 0 != 33\n",
      "ERROR in   14: 0 != 27\n",
      "ERROR in   16: 0 != 35\n",
      "ERROR in   20: 0 != 30\n",
      "ERROR in   24: 0 != 33\n",
      "ERROR in   25: 0 != 23\n",
      "ERROR in   29: 0 != 23\n",
      "ERROR in   31: 0 != 23\n",
      "ERROR in   35: 0 != 41\n",
      "ERROR in   36: 0 != 21\n",
      "ERROR in   37: 0 != 41\n",
      "ERROR in   70: 0 != 17\n",
      "ERROR in   71: 0 != 31\n",
      "ERROR in   73: 0 != 27\n",
      "ERROR in   74: 0 != 33\n",
      "ERROR in   76: 0 != 19\n",
      "ERROR in  100: 0 != 21\n",
      "ERROR in  104: 0 != 13\n",
      "ERROR in  105: 0 != 29\n",
      "ERROR in  107: 0 != 27\n",
      "ERROR in  108: 0 != 27\n",
      "ERROR in  143: 0 != 29\n",
      "ERROR in  146: 0 != 35\n",
      "ERROR in  147: 0 != 27\n",
      "ERROR in  149: 0 != 31\n",
      "ERROR in  151: 0 != 23\n",
      "ERROR in  158: 0 != 23\n",
      "ERROR in  159: 0 != 29\n",
      "ERROR in  330: 0 != 23\n",
      "ERROR in  333: 0 != 21\n",
      "ERROR in  336: 0 != 35\n",
      "ERROR in  337: 0 != 31\n",
      "ERROR in  338: 0 != 19\n",
      "ERROR in  372: 0 != 33\n",
      "ERROR in  374: 0 != 23\n",
      "ERROR in  375: 0 != 11\n",
      "ERROR in  376: 0 != 24\n",
      "ERROR in  377: 0 != 37\n",
      "ERROR in  378: 0 != 33\n",
      "mismatched_count:  40\n",
      "[pk] 0.050033 [wd] 0.051902 [f1] 0.864754 \n"
     ]
    }
   ],
   "source": [
    "print('[NO_DST_uttr]')\n",
    "for domain in ['tiage', 'superseg', 'dialseg711']:\n",
    "    print(domain)\n",
    "    pretty_print(compute_gpt_performance(domain, 'test', 'llama_nodst', 2000)[0])\n",
    "    \n",
    "for domain in ['tiage', 'superseg', 'dialseg711']:\n",
    "    print(domain)\n",
    "    pretty_print(compute_gpt_performance(domain, 'test', 'qwen_nodst', 2000)[0])"
   ]
  },
  {
   "cell_type": "code",
   "execution_count": 27,
   "metadata": {},
   "outputs": [
    {
     "name": "stdout",
     "output_type": "stream",
     "text": [
      "[PLAIN]\n",
      "tiage\n",
      "[pk] 0.471612 [wd] 0.514936 [f1] 0.215026 \n",
      "[pk] 0.495101 [wd] 0.532821 [f1] 0.161702 \n",
      "superseg\n",
      "[pk] 0.491698 [wd] 0.494809 [f1] 0.02649 \n",
      "[pk] 0.485416 [wd] 0.486666 [f1] 0.058722 \n",
      "dialseg711\n",
      "[pk] 0.350285 [wd] 0.373024 [f1] 0.032333 \n",
      "[pk] 0.421684 [wd] 0.434034 [f1] 0.011737 \n"
     ]
    }
   ],
   "source": [
    "print('[PLAIN]')\n",
    "for domain in ['tiage', 'superseg', 'dialseg711']:\n",
    "    print(domain)\n",
    "    pretty_print(compute_plain_performance(domain, 'test', 1322, 0, False, [], f'results/llama_plain_{domain}.json', True))\n",
    "    pretty_print(compute_plain_performance(domain, 'test', 1322, 0, False, [], f'results/qwen_plain_{domain}.json', True))"
   ]
  }
 ],
 "metadata": {
  "kernelspec": {
   "display_name": "segnet",
   "language": "python",
   "name": "python3"
  },
  "language_info": {
   "codemirror_mode": {
    "name": "ipython",
    "version": 3
   },
   "file_extension": ".py",
   "mimetype": "text/x-python",
   "name": "python",
   "nbconvert_exporter": "python",
   "pygments_lexer": "ipython3",
   "version": "3.9.16"
  }
 },
 "nbformat": 4,
 "nbformat_minor": 2
}
